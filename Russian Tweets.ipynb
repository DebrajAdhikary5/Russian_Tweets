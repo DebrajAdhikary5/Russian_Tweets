{
 "cells": [
  {
   "cell_type": "code",
   "execution_count": 37,
   "id": "4a108467-b8b1-4378-b915-c712a75a1b2c",
   "metadata": {},
   "outputs": [],
   "source": [
    "import pandas as pd\n",
    "import numpy as np\n",
    "import seaborn as sns\n",
    "import matplotlib.pyplot as plt"
   ]
  },
  {
   "cell_type": "code",
   "execution_count": 38,
   "id": "198d8f14-6aac-489e-9d19-5839d21fbd71",
   "metadata": {},
   "outputs": [],
   "source": [
    "troll=pd.read_csv(\"E:\\\\PycharmProjects\\\\Data Analytics Real-World Case Studies using Python\\\\Data Analytics Real-World Case Studies using Python\\\\2. Project 2 Russian Tweets\\\\archive_2\\\\tweets.csv\")"
   ]
  },
  {
   "cell_type": "code",
   "execution_count": 39,
   "id": "adc41af6-c02a-44de-af6c-8f6f706124fd",
   "metadata": {},
   "outputs": [
    {
     "data": {
      "text/html": [
       "<div>\n",
       "<style scoped>\n",
       "    .dataframe tbody tr th:only-of-type {\n",
       "        vertical-align: middle;\n",
       "    }\n",
       "\n",
       "    .dataframe tbody tr th {\n",
       "        vertical-align: top;\n",
       "    }\n",
       "\n",
       "    .dataframe thead th {\n",
       "        text-align: right;\n",
       "    }\n",
       "</style>\n",
       "<table border=\"1\" class=\"dataframe\">\n",
       "  <thead>\n",
       "    <tr style=\"text-align: right;\">\n",
       "      <th></th>\n",
       "      <th>user_id</th>\n",
       "      <th>user_key</th>\n",
       "      <th>created_at</th>\n",
       "      <th>created_str</th>\n",
       "      <th>retweet_count</th>\n",
       "      <th>retweeted</th>\n",
       "      <th>favorite_count</th>\n",
       "      <th>text</th>\n",
       "      <th>tweet_id</th>\n",
       "      <th>source</th>\n",
       "      <th>hashtags</th>\n",
       "      <th>expanded_urls</th>\n",
       "      <th>posted</th>\n",
       "      <th>mentions</th>\n",
       "      <th>retweeted_status_id</th>\n",
       "      <th>in_reply_to_status_id</th>\n",
       "    </tr>\n",
       "  </thead>\n",
       "  <tbody>\n",
       "    <tr>\n",
       "      <th>0</th>\n",
       "      <td>1.868981e+09</td>\n",
       "      <td>ryanmaxwell_1</td>\n",
       "      <td>1.458672e+12</td>\n",
       "      <td>2016-03-22 18:31:42</td>\n",
       "      <td>NaN</td>\n",
       "      <td>NaN</td>\n",
       "      <td>NaN</td>\n",
       "      <td>#IslamKills Are you trying to say that there w...</td>\n",
       "      <td>7.123460e+17</td>\n",
       "      <td>NaN</td>\n",
       "      <td>[\"IslamKills\"]</td>\n",
       "      <td>[]</td>\n",
       "      <td>POSTED</td>\n",
       "      <td>[]</td>\n",
       "      <td>NaN</td>\n",
       "      <td>NaN</td>\n",
       "    </tr>\n",
       "    <tr>\n",
       "      <th>1</th>\n",
       "      <td>2.571870e+09</td>\n",
       "      <td>detroitdailynew</td>\n",
       "      <td>1.476133e+12</td>\n",
       "      <td>2016-10-10 20:57:00</td>\n",
       "      <td>0.0</td>\n",
       "      <td>False</td>\n",
       "      <td>0.0</td>\n",
       "      <td>Clinton: Trump should’ve apologized more, atta...</td>\n",
       "      <td>7.855849e+17</td>\n",
       "      <td>&lt;a href=\"http://twitterfeed.com\" rel=\"nofollow...</td>\n",
       "      <td>[]</td>\n",
       "      <td>[\"http://detne.ws/2e172jF\"]</td>\n",
       "      <td>POSTED</td>\n",
       "      <td>[]</td>\n",
       "      <td>NaN</td>\n",
       "      <td>NaN</td>\n",
       "    </tr>\n",
       "    <tr>\n",
       "      <th>2</th>\n",
       "      <td>1.710805e+09</td>\n",
       "      <td>cookncooks</td>\n",
       "      <td>1.487767e+12</td>\n",
       "      <td>2017-02-22 12:43:43</td>\n",
       "      <td>NaN</td>\n",
       "      <td>NaN</td>\n",
       "      <td>NaN</td>\n",
       "      <td>RT @ltapoll: Who was/is the best president of ...</td>\n",
       "      <td>8.343832e+17</td>\n",
       "      <td>NaN</td>\n",
       "      <td>[]</td>\n",
       "      <td>[]</td>\n",
       "      <td>POSTED</td>\n",
       "      <td>[]</td>\n",
       "      <td>NaN</td>\n",
       "      <td>NaN</td>\n",
       "    </tr>\n",
       "    <tr>\n",
       "      <th>3</th>\n",
       "      <td>2.584153e+09</td>\n",
       "      <td>queenofthewo</td>\n",
       "      <td>1.482765e+12</td>\n",
       "      <td>2016-12-26 15:06:41</td>\n",
       "      <td>NaN</td>\n",
       "      <td>NaN</td>\n",
       "      <td>NaN</td>\n",
       "      <td>RT @jww372: I don't have to guess your religio...</td>\n",
       "      <td>8.134006e+17</td>\n",
       "      <td>NaN</td>\n",
       "      <td>[\"ChristmasAftermath\"]</td>\n",
       "      <td>[]</td>\n",
       "      <td>POSTED</td>\n",
       "      <td>[]</td>\n",
       "      <td>NaN</td>\n",
       "      <td>NaN</td>\n",
       "    </tr>\n",
       "    <tr>\n",
       "      <th>4</th>\n",
       "      <td>1.768260e+09</td>\n",
       "      <td>mrclydepratt</td>\n",
       "      <td>1.501987e+12</td>\n",
       "      <td>2017-08-06 02:36:24</td>\n",
       "      <td>NaN</td>\n",
       "      <td>NaN</td>\n",
       "      <td>NaN</td>\n",
       "      <td>RT @Shareblue: Pence and his lawyers decided w...</td>\n",
       "      <td>8.940243e+17</td>\n",
       "      <td>NaN</td>\n",
       "      <td>[]</td>\n",
       "      <td>[]</td>\n",
       "      <td>POSTED</td>\n",
       "      <td>[]</td>\n",
       "      <td>NaN</td>\n",
       "      <td>NaN</td>\n",
       "    </tr>\n",
       "  </tbody>\n",
       "</table>\n",
       "</div>"
      ],
      "text/plain": [
       "        user_id         user_key    created_at          created_str  \\\n",
       "0  1.868981e+09    ryanmaxwell_1  1.458672e+12  2016-03-22 18:31:42   \n",
       "1  2.571870e+09  detroitdailynew  1.476133e+12  2016-10-10 20:57:00   \n",
       "2  1.710805e+09       cookncooks  1.487767e+12  2017-02-22 12:43:43   \n",
       "3  2.584153e+09     queenofthewo  1.482765e+12  2016-12-26 15:06:41   \n",
       "4  1.768260e+09     mrclydepratt  1.501987e+12  2017-08-06 02:36:24   \n",
       "\n",
       "   retweet_count retweeted  favorite_count  \\\n",
       "0            NaN       NaN             NaN   \n",
       "1            0.0     False             0.0   \n",
       "2            NaN       NaN             NaN   \n",
       "3            NaN       NaN             NaN   \n",
       "4            NaN       NaN             NaN   \n",
       "\n",
       "                                                text      tweet_id  \\\n",
       "0  #IslamKills Are you trying to say that there w...  7.123460e+17   \n",
       "1  Clinton: Trump should’ve apologized more, atta...  7.855849e+17   \n",
       "2  RT @ltapoll: Who was/is the best president of ...  8.343832e+17   \n",
       "3  RT @jww372: I don't have to guess your religio...  8.134006e+17   \n",
       "4  RT @Shareblue: Pence and his lawyers decided w...  8.940243e+17   \n",
       "\n",
       "                                              source                hashtags  \\\n",
       "0                                                NaN          [\"IslamKills\"]   \n",
       "1  <a href=\"http://twitterfeed.com\" rel=\"nofollow...                      []   \n",
       "2                                                NaN                      []   \n",
       "3                                                NaN  [\"ChristmasAftermath\"]   \n",
       "4                                                NaN                      []   \n",
       "\n",
       "                 expanded_urls  posted mentions  retweeted_status_id  \\\n",
       "0                           []  POSTED       []                  NaN   \n",
       "1  [\"http://detne.ws/2e172jF\"]  POSTED       []                  NaN   \n",
       "2                           []  POSTED       []                  NaN   \n",
       "3                           []  POSTED       []                  NaN   \n",
       "4                           []  POSTED       []                  NaN   \n",
       "\n",
       "   in_reply_to_status_id  \n",
       "0                    NaN  \n",
       "1                    NaN  \n",
       "2                    NaN  \n",
       "3                    NaN  \n",
       "4                    NaN  "
      ]
     },
     "execution_count": 39,
     "metadata": {},
     "output_type": "execute_result"
    }
   ],
   "source": [
    "troll.head(5)"
   ]
  },
  {
   "cell_type": "code",
   "execution_count": 40,
   "id": "34529dc2-1642-47e2-8605-87759a74874e",
   "metadata": {},
   "outputs": [
    {
     "data": {
      "text/plain": [
       "(203482, 16)"
      ]
     },
     "execution_count": 40,
     "metadata": {},
     "output_type": "execute_result"
    }
   ],
   "source": [
    "troll.shape"
   ]
  },
  {
   "cell_type": "code",
   "execution_count": 41,
   "id": "d10a3eba-ca00-4cda-a852-0773a362bbe5",
   "metadata": {},
   "outputs": [
    {
     "data": {
      "text/plain": [
       "in_reply_to_status_id    202923\n",
       "retweeted_status_id      163831\n",
       "retweet_count            145399\n",
       "retweeted                145399\n",
       "favorite_count           145399\n",
       "source                   145398\n",
       "user_id                    8065\n",
       "tweet_id                   2314\n",
       "created_at                   21\n",
       "created_str                  21\n",
       "text                         21\n",
       "user_key                      0\n",
       "hashtags                      0\n",
       "expanded_urls                 0\n",
       "posted                        0\n",
       "mentions                      0\n",
       "dtype: int64"
      ]
     },
     "execution_count": 41,
     "metadata": {},
     "output_type": "execute_result"
    }
   ],
   "source": [
    "troll.isnull().sum().sort_values(ascending=False)"
   ]
  },
  {
   "cell_type": "code",
   "execution_count": 42,
   "id": "44214a9a-77f2-486a-aeba-242a02c84d1a",
   "metadata": {},
   "outputs": [
    {
     "data": {
      "text/plain": [
       "user_id                  float64\n",
       "user_key                  object\n",
       "created_at               float64\n",
       "created_str               object\n",
       "retweet_count            float64\n",
       "retweeted                 object\n",
       "favorite_count           float64\n",
       "text                      object\n",
       "tweet_id                 float64\n",
       "source                    object\n",
       "hashtags                  object\n",
       "expanded_urls             object\n",
       "posted                    object\n",
       "mentions                  object\n",
       "retweeted_status_id      float64\n",
       "in_reply_to_status_id    float64\n",
       "dtype: object"
      ]
     },
     "execution_count": 42,
     "metadata": {},
     "output_type": "execute_result"
    }
   ],
   "source": [
    "troll.dtypes"
   ]
  },
  {
   "cell_type": "code",
   "execution_count": 43,
   "id": "f94f22db-c4d9-4dc8-821a-414b34678afa",
   "metadata": {},
   "outputs": [],
   "source": [
    "troll['created_str']=pd.to_datetime(troll['created_str'])"
   ]
  },
  {
   "cell_type": "code",
   "execution_count": 44,
   "id": "3dcca0e1-12d7-402f-9774-0007b75fa386",
   "metadata": {},
   "outputs": [
    {
     "data": {
      "text/plain": [
       "Timestamp('2014-07-14 18:04:55')"
      ]
     },
     "execution_count": 44,
     "metadata": {},
     "output_type": "execute_result"
    }
   ],
   "source": [
    "troll['created_str'].min()"
   ]
  },
  {
   "cell_type": "code",
   "execution_count": 45,
   "id": "96d2359c-358d-49d8-ae26-7c63509add31",
   "metadata": {},
   "outputs": [
    {
     "data": {
      "text/plain": [
       "Timestamp('2017-09-26 09:05:32')"
      ]
     },
     "execution_count": 45,
     "metadata": {},
     "output_type": "execute_result"
    }
   ],
   "source": [
    "troll['created_str'].max()"
   ]
  },
  {
   "cell_type": "code",
   "execution_count": 46,
   "id": "301a8cfd-7ed7-4a1d-96af-f6a95c2d9434",
   "metadata": {},
   "outputs": [],
   "source": [
    "troll['created_str_date']=troll['created_str'].dt.date"
   ]
  },
  {
   "cell_type": "code",
   "execution_count": 47,
   "id": "94a03eb5-04e2-4599-853a-a932782d1e32",
   "metadata": {},
   "outputs": [
    {
     "data": {
      "text/plain": [
       "0         2016-03-22\n",
       "1         2016-10-10\n",
       "2         2017-02-22\n",
       "3         2016-12-26\n",
       "4         2017-08-06\n",
       "             ...    \n",
       "203477    2016-11-01\n",
       "203478    2015-06-18\n",
       "203479    2017-01-10\n",
       "203480    2016-11-20\n",
       "203481    2016-12-19\n",
       "Name: created_str_date, Length: 203482, dtype: object"
      ]
     },
     "execution_count": 47,
     "metadata": {},
     "output_type": "execute_result"
    }
   ],
   "source": [
    "troll['created_str_date']"
   ]
  },
  {
   "cell_type": "code",
   "execution_count": 48,
   "id": "ac699ab4-69bc-4323-90a2-5cc5e9f76e4b",
   "metadata": {},
   "outputs": [
    {
     "name": "stderr",
     "output_type": "stream",
     "text": [
      "C:\\Users\\dipad\\AppData\\Local\\Temp\\ipykernel_18708\\2816633655.py:1: FutureWarning: pandas.value_counts is deprecated and will be removed in a future version. Use pd.Series(obj).value_counts() instead.\n",
      "  tweet_trend=pd.value_counts(troll['created_str_date']).to_frame()\n"
     ]
    }
   ],
   "source": [
    "tweet_trend=pd.value_counts(troll['created_str_date']).to_frame()"
   ]
  },
  {
   "cell_type": "code",
   "execution_count": 49,
   "id": "57e8d881-d530-48a3-8cd3-07d94b8c7c86",
   "metadata": {},
   "outputs": [],
   "source": [
    "tweet_trend.columns=['tweers_count']"
   ]
  },
  {
   "cell_type": "code",
   "execution_count": 50,
   "id": "87b33a8b-7893-4b2d-a9cd-2e29cad8fb45",
   "metadata": {},
   "outputs": [],
   "source": [
    "tweet_trend.sort_index(ascending=True,inplace=True)"
   ]
  },
  {
   "cell_type": "code",
   "execution_count": 51,
   "id": "4fc9589e-f431-4d69-9a40-01fbea6fa4cf",
   "metadata": {},
   "outputs": [
    {
     "data": {
      "text/plain": [
       "Text(0, 0.5, 'Tweet count')"
      ]
     },
     "execution_count": 51,
     "metadata": {},
     "output_type": "execute_result"
    },
    {
     "data": {
      "image/png": "[encoded data removed]",
      "text/plain": [
       "<Figure size 1200x800 with 1 Axes>"
      ]
     },
     "metadata": {},
     "output_type": "display_data"
    }
   ],
   "source": [
    "tweet_trend.plot(figsize=(12,8))\n",
    "plt.title('Tweets counts by date')\n",
    "plt.xlabel('Date')\n",
    "plt.ylabel('Tweet count')"
   ]
  },
  {
   "cell_type": "code",
   "execution_count": 52,
   "id": "be36dfd4-72d5-4f3a-82a2-c7204a7db6dd",
   "metadata": {},
   "outputs": [
    {
     "data": {
      "text/plain": [
       "0     2015-06-16\n",
       "1     2015-12-07\n",
       "2     2016-02-01\n",
       "3     2016-03-01\n",
       "4     2016-03-03\n",
       "5     2016-03-11\n",
       "6     2016-05-03\n",
       "7     2016-05-26\n",
       "8     2016-06-20\n",
       "9     2016-07-15\n",
       "10    2016-07-21\n",
       "11    2016-08-17\n",
       "12    2016-09-01\n",
       "13    2016-10-07\n",
       "14    2016-11-08\n",
       "dtype: object"
      ]
     },
     "execution_count": 52,
     "metadata": {},
     "output_type": "execute_result"
    }
   ],
   "source": [
    "dates_list = ['2015-06-16', '2015-12-07', '2016-02-01',\n",
    "              '2016-03-01', '2016-03-03', '2016-03-11',\n",
    "              '2016-05-03', '2016-05-26', '2016-06-20', \n",
    "              '2016-07-15', '2016-07-21', '2016-08-17', \n",
    "              '2016-09-01', '2016-10-07', '2016-11-08']\n",
    "\n",
    "important_dates=pd.Series(dates_list)\n",
    "important_dates"
   ]
  },
  {
   "cell_type": "code",
   "execution_count": 53,
   "id": "874b0c7c-153a-4772-8dc8-fe01c82327b4",
   "metadata": {},
   "outputs": [],
   "source": [
    "data=tweet_trend.copy()"
   ]
  },
  {
   "cell_type": "code",
   "execution_count": 54,
   "id": "6e2074c6-11c3-4de4-84fb-85806e79b1ec",
   "metadata": {
    "scrolled": true
   },
   "outputs": [
    {
     "data": {
      "text/html": [
       "<div>\n",
       "<style scoped>\n",
       "    .dataframe tbody tr th:only-of-type {\n",
       "        vertical-align: middle;\n",
       "    }\n",
       "\n",
       "    .dataframe tbody tr th {\n",
       "        vertical-align: top;\n",
       "    }\n",
       "\n",
       "    .dataframe thead th {\n",
       "        text-align: right;\n",
       "    }\n",
       "</style>\n",
       "<table border=\"1\" class=\"dataframe\">\n",
       "  <thead>\n",
       "    <tr style=\"text-align: right;\">\n",
       "      <th></th>\n",
       "      <th>tweers_count</th>\n",
       "    </tr>\n",
       "    <tr>\n",
       "      <th>created_str_date</th>\n",
       "      <th></th>\n",
       "    </tr>\n",
       "  </thead>\n",
       "  <tbody>\n",
       "    <tr>\n",
       "      <th>2014-07-14</th>\n",
       "      <td>1</td>\n",
       "    </tr>\n",
       "    <tr>\n",
       "      <th>2014-07-17</th>\n",
       "      <td>1</td>\n",
       "    </tr>\n",
       "    <tr>\n",
       "      <th>2014-07-20</th>\n",
       "      <td>2</td>\n",
       "    </tr>\n",
       "    <tr>\n",
       "      <th>2014-07-22</th>\n",
       "      <td>3</td>\n",
       "    </tr>\n",
       "    <tr>\n",
       "      <th>2014-07-23</th>\n",
       "      <td>1</td>\n",
       "    </tr>\n",
       "    <tr>\n",
       "      <th>...</th>\n",
       "      <td>...</td>\n",
       "    </tr>\n",
       "    <tr>\n",
       "      <th>2017-09-10</th>\n",
       "      <td>7</td>\n",
       "    </tr>\n",
       "    <tr>\n",
       "      <th>2017-09-16</th>\n",
       "      <td>6</td>\n",
       "    </tr>\n",
       "    <tr>\n",
       "      <th>2017-09-19</th>\n",
       "      <td>1</td>\n",
       "    </tr>\n",
       "    <tr>\n",
       "      <th>2017-09-24</th>\n",
       "      <td>1</td>\n",
       "    </tr>\n",
       "    <tr>\n",
       "      <th>2017-09-26</th>\n",
       "      <td>3</td>\n",
       "    </tr>\n",
       "  </tbody>\n",
       "</table>\n",
       "<p>930 rows × 1 columns</p>\n",
       "</div>"
      ],
      "text/plain": [
       "                  tweers_count\n",
       "created_str_date              \n",
       "2014-07-14                   1\n",
       "2014-07-17                   1\n",
       "2014-07-20                   2\n",
       "2014-07-22                   3\n",
       "2014-07-23                   1\n",
       "...                        ...\n",
       "2017-09-10                   7\n",
       "2017-09-16                   6\n",
       "2017-09-19                   1\n",
       "2017-09-24                   1\n",
       "2017-09-26                   3\n",
       "\n",
       "[930 rows x 1 columns]"
      ]
     },
     "execution_count": 54,
     "metadata": {},
     "output_type": "execute_result"
    }
   ],
   "source": [
    "data"
   ]
  },
  {
   "cell_type": "code",
   "execution_count": 55,
   "id": "f20b50dc-26e9-49fe-ab35-6bbb44ed8314",
   "metadata": {},
   "outputs": [],
   "source": [
    "data[' Important Events']=False"
   ]
  },
  {
   "cell_type": "code",
   "execution_count": 56,
   "id": "6cc94b27-d1ef-44e0-a137-160c36f35642",
   "metadata": {},
   "outputs": [
    {
     "data": {
      "text/html": [
       "<div>\n",
       "<style scoped>\n",
       "    .dataframe tbody tr th:only-of-type {\n",
       "        vertical-align: middle;\n",
       "    }\n",
       "\n",
       "    .dataframe tbody tr th {\n",
       "        vertical-align: top;\n",
       "    }\n",
       "\n",
       "    .dataframe thead th {\n",
       "        text-align: right;\n",
       "    }\n",
       "</style>\n",
       "<table border=\"1\" class=\"dataframe\">\n",
       "  <thead>\n",
       "    <tr style=\"text-align: right;\">\n",
       "      <th></th>\n",
       "      <th>tweers_count</th>\n",
       "      <th>Important Events</th>\n",
       "    </tr>\n",
       "    <tr>\n",
       "      <th>created_str_date</th>\n",
       "      <th></th>\n",
       "      <th></th>\n",
       "    </tr>\n",
       "  </thead>\n",
       "  <tbody>\n",
       "    <tr>\n",
       "      <th>2014-07-14</th>\n",
       "      <td>1</td>\n",
       "      <td>False</td>\n",
       "    </tr>\n",
       "    <tr>\n",
       "      <th>2014-07-17</th>\n",
       "      <td>1</td>\n",
       "      <td>False</td>\n",
       "    </tr>\n",
       "    <tr>\n",
       "      <th>2014-07-20</th>\n",
       "      <td>2</td>\n",
       "      <td>False</td>\n",
       "    </tr>\n",
       "    <tr>\n",
       "      <th>2014-07-22</th>\n",
       "      <td>3</td>\n",
       "      <td>False</td>\n",
       "    </tr>\n",
       "    <tr>\n",
       "      <th>2014-07-23</th>\n",
       "      <td>1</td>\n",
       "      <td>False</td>\n",
       "    </tr>\n",
       "    <tr>\n",
       "      <th>...</th>\n",
       "      <td>...</td>\n",
       "      <td>...</td>\n",
       "    </tr>\n",
       "    <tr>\n",
       "      <th>2017-09-10</th>\n",
       "      <td>7</td>\n",
       "      <td>False</td>\n",
       "    </tr>\n",
       "    <tr>\n",
       "      <th>2017-09-16</th>\n",
       "      <td>6</td>\n",
       "      <td>False</td>\n",
       "    </tr>\n",
       "    <tr>\n",
       "      <th>2017-09-19</th>\n",
       "      <td>1</td>\n",
       "      <td>False</td>\n",
       "    </tr>\n",
       "    <tr>\n",
       "      <th>2017-09-24</th>\n",
       "      <td>1</td>\n",
       "      <td>False</td>\n",
       "    </tr>\n",
       "    <tr>\n",
       "      <th>2017-09-26</th>\n",
       "      <td>3</td>\n",
       "      <td>False</td>\n",
       "    </tr>\n",
       "  </tbody>\n",
       "</table>\n",
       "<p>930 rows × 2 columns</p>\n",
       "</div>"
      ],
      "text/plain": [
       "                  tweers_count   Important Events\n",
       "created_str_date                                 \n",
       "2014-07-14                   1              False\n",
       "2014-07-17                   1              False\n",
       "2014-07-20                   2              False\n",
       "2014-07-22                   3              False\n",
       "2014-07-23                   1              False\n",
       "...                        ...                ...\n",
       "2017-09-10                   7              False\n",
       "2017-09-16                   6              False\n",
       "2017-09-19                   1              False\n",
       "2017-09-24                   1              False\n",
       "2017-09-26                   3              False\n",
       "\n",
       "[930 rows x 2 columns]"
      ]
     },
     "execution_count": 56,
     "metadata": {},
     "output_type": "execute_result"
    }
   ],
   "source": [
    "data"
   ]
  },
  {
   "cell_type": "code",
   "execution_count": 57,
   "id": "75f6b12c-3995-47bb-aefe-b9d6810fc31c",
   "metadata": {},
   "outputs": [],
   "source": [
    "data=data.reset_index().rename(columns={'created_str_date':'date'})"
   ]
  },
  {
   "cell_type": "code",
   "execution_count": 58,
   "id": "9bce3598-2c9d-4b80-a55d-67420c166bc8",
   "metadata": {},
   "outputs": [
    {
     "data": {
      "text/html": [
       "<div>\n",
       "<style scoped>\n",
       "    .dataframe tbody tr th:only-of-type {\n",
       "        vertical-align: middle;\n",
       "    }\n",
       "\n",
       "    .dataframe tbody tr th {\n",
       "        vertical-align: top;\n",
       "    }\n",
       "\n",
       "    .dataframe thead th {\n",
       "        text-align: right;\n",
       "    }\n",
       "</style>\n",
       "<table border=\"1\" class=\"dataframe\">\n",
       "  <thead>\n",
       "    <tr style=\"text-align: right;\">\n",
       "      <th></th>\n",
       "      <th>date</th>\n",
       "      <th>tweers_count</th>\n",
       "      <th>Important Events</th>\n",
       "    </tr>\n",
       "  </thead>\n",
       "  <tbody>\n",
       "    <tr>\n",
       "      <th>0</th>\n",
       "      <td>2014-07-14</td>\n",
       "      <td>1</td>\n",
       "      <td>False</td>\n",
       "    </tr>\n",
       "    <tr>\n",
       "      <th>1</th>\n",
       "      <td>2014-07-17</td>\n",
       "      <td>1</td>\n",
       "      <td>False</td>\n",
       "    </tr>\n",
       "    <tr>\n",
       "      <th>2</th>\n",
       "      <td>2014-07-20</td>\n",
       "      <td>2</td>\n",
       "      <td>False</td>\n",
       "    </tr>\n",
       "    <tr>\n",
       "      <th>3</th>\n",
       "      <td>2014-07-22</td>\n",
       "      <td>3</td>\n",
       "      <td>False</td>\n",
       "    </tr>\n",
       "    <tr>\n",
       "      <th>4</th>\n",
       "      <td>2014-07-23</td>\n",
       "      <td>1</td>\n",
       "      <td>False</td>\n",
       "    </tr>\n",
       "    <tr>\n",
       "      <th>...</th>\n",
       "      <td>...</td>\n",
       "      <td>...</td>\n",
       "      <td>...</td>\n",
       "    </tr>\n",
       "    <tr>\n",
       "      <th>925</th>\n",
       "      <td>2017-09-10</td>\n",
       "      <td>7</td>\n",
       "      <td>False</td>\n",
       "    </tr>\n",
       "    <tr>\n",
       "      <th>926</th>\n",
       "      <td>2017-09-16</td>\n",
       "      <td>6</td>\n",
       "      <td>False</td>\n",
       "    </tr>\n",
       "    <tr>\n",
       "      <th>927</th>\n",
       "      <td>2017-09-19</td>\n",
       "      <td>1</td>\n",
       "      <td>False</td>\n",
       "    </tr>\n",
       "    <tr>\n",
       "      <th>928</th>\n",
       "      <td>2017-09-24</td>\n",
       "      <td>1</td>\n",
       "      <td>False</td>\n",
       "    </tr>\n",
       "    <tr>\n",
       "      <th>929</th>\n",
       "      <td>2017-09-26</td>\n",
       "      <td>3</td>\n",
       "      <td>False</td>\n",
       "    </tr>\n",
       "  </tbody>\n",
       "</table>\n",
       "<p>930 rows × 3 columns</p>\n",
       "</div>"
      ],
      "text/plain": [
       "           date  tweers_count   Important Events\n",
       "0    2014-07-14             1              False\n",
       "1    2014-07-17             1              False\n",
       "2    2014-07-20             2              False\n",
       "3    2014-07-22             3              False\n",
       "4    2014-07-23             1              False\n",
       "..          ...           ...                ...\n",
       "925  2017-09-10             7              False\n",
       "926  2017-09-16             6              False\n",
       "927  2017-09-19             1              False\n",
       "928  2017-09-24             1              False\n",
       "929  2017-09-26             3              False\n",
       "\n",
       "[930 rows x 3 columns]"
      ]
     },
     "execution_count": 58,
     "metadata": {},
     "output_type": "execute_result"
    }
   ],
   "source": [
    "data"
   ]
  },
  {
   "cell_type": "code",
   "execution_count": 59,
   "id": "1bd10cd6-d372-42d3-a39d-225a7beba66e",
   "metadata": {},
   "outputs": [
    {
     "data": {
      "text/plain": [
       "datetime.date"
      ]
     },
     "execution_count": 59,
     "metadata": {},
     "output_type": "execute_result"
    }
   ],
   "source": [
    "type(data['date'][0])"
   ]
  },
  {
   "cell_type": "code",
   "execution_count": 60,
   "id": "5ada9095-9d69-4f9f-b6ed-eaadd62e56bd",
   "metadata": {},
   "outputs": [
    {
     "data": {
      "text/plain": [
       "str"
      ]
     },
     "execution_count": 60,
     "metadata": {},
     "output_type": "execute_result"
    }
   ],
   "source": [
    "type(important_dates[0])"
   ]
  },
  {
   "cell_type": "code",
   "execution_count": 61,
   "id": "240e9100-5757-400b-869e-14d83c500147",
   "metadata": {},
   "outputs": [],
   "source": [
    "data['date']=data['date'].apply(lambda x:x.strftime('%Y-%m-%d'))"
   ]
  },
  {
   "cell_type": "code",
   "execution_count": 62,
   "id": "44e0be87-2e69-478a-8980-4c8b278e8bd0",
   "metadata": {},
   "outputs": [
    {
     "data": {
      "text/plain": [
       "0      2014-07-14\n",
       "1      2014-07-17\n",
       "2      2014-07-20\n",
       "3      2014-07-22\n",
       "4      2014-07-23\n",
       "          ...    \n",
       "925    2017-09-10\n",
       "926    2017-09-16\n",
       "927    2017-09-19\n",
       "928    2017-09-24\n",
       "929    2017-09-26\n",
       "Name: date, Length: 930, dtype: object"
      ]
     },
     "execution_count": 62,
     "metadata": {},
     "output_type": "execute_result"
    }
   ],
   "source": [
    "data['date']"
   ]
  },
  {
   "cell_type": "code",
   "execution_count": 63,
   "id": "777db2d5-90b6-42a9-9e6b-27f9e01496aa",
   "metadata": {},
   "outputs": [
    {
     "data": {
      "text/plain": [
       "str"
      ]
     },
     "execution_count": 63,
     "metadata": {},
     "output_type": "execute_result"
    }
   ],
   "source": [
    "type(data['date'][0])"
   ]
  },
  {
   "cell_type": "code",
   "execution_count": 64,
   "id": "a6c599f3-5225-41b9-a5a0-f725a1805554",
   "metadata": {},
   "outputs": [
    {
     "data": {
      "text/plain": [
       "array([False,  True])"
      ]
     },
     "execution_count": 64,
     "metadata": {},
     "output_type": "execute_result"
    }
   ],
   "source": [
    "data['date'].isin(important_dates).unique()"
   ]
  },
  {
   "cell_type": "code",
   "execution_count": 65,
   "id": "b879e794-7a0e-41b1-9ef4-45fc7ee0253d",
   "metadata": {},
   "outputs": [
    {
     "data": {
      "text/html": [
       "<div>\n",
       "<style scoped>\n",
       "    .dataframe tbody tr th:only-of-type {\n",
       "        vertical-align: middle;\n",
       "    }\n",
       "\n",
       "    .dataframe tbody tr th {\n",
       "        vertical-align: top;\n",
       "    }\n",
       "\n",
       "    .dataframe thead th {\n",
       "        text-align: right;\n",
       "    }\n",
       "</style>\n",
       "<table border=\"1\" class=\"dataframe\">\n",
       "  <thead>\n",
       "    <tr style=\"text-align: right;\">\n",
       "      <th></th>\n",
       "      <th>date</th>\n",
       "      <th>tweers_count</th>\n",
       "      <th>Important Events</th>\n",
       "    </tr>\n",
       "  </thead>\n",
       "  <tbody>\n",
       "    <tr>\n",
       "      <th>170</th>\n",
       "      <td>2015-06-16</td>\n",
       "      <td>3</td>\n",
       "      <td>False</td>\n",
       "    </tr>\n",
       "    <tr>\n",
       "      <th>331</th>\n",
       "      <td>2015-12-07</td>\n",
       "      <td>219</td>\n",
       "      <td>False</td>\n",
       "    </tr>\n",
       "    <tr>\n",
       "      <th>382</th>\n",
       "      <td>2016-02-01</td>\n",
       "      <td>18</td>\n",
       "      <td>False</td>\n",
       "    </tr>\n",
       "    <tr>\n",
       "      <th>409</th>\n",
       "      <td>2016-03-01</td>\n",
       "      <td>143</td>\n",
       "      <td>False</td>\n",
       "    </tr>\n",
       "    <tr>\n",
       "      <th>411</th>\n",
       "      <td>2016-03-03</td>\n",
       "      <td>6</td>\n",
       "      <td>False</td>\n",
       "    </tr>\n",
       "    <tr>\n",
       "      <th>419</th>\n",
       "      <td>2016-03-11</td>\n",
       "      <td>64</td>\n",
       "      <td>False</td>\n",
       "    </tr>\n",
       "    <tr>\n",
       "      <th>467</th>\n",
       "      <td>2016-05-03</td>\n",
       "      <td>38</td>\n",
       "      <td>False</td>\n",
       "    </tr>\n",
       "    <tr>\n",
       "      <th>487</th>\n",
       "      <td>2016-05-26</td>\n",
       "      <td>6</td>\n",
       "      <td>False</td>\n",
       "    </tr>\n",
       "    <tr>\n",
       "      <th>511</th>\n",
       "      <td>2016-06-20</td>\n",
       "      <td>201</td>\n",
       "      <td>False</td>\n",
       "    </tr>\n",
       "    <tr>\n",
       "      <th>536</th>\n",
       "      <td>2016-07-15</td>\n",
       "      <td>47</td>\n",
       "      <td>False</td>\n",
       "    </tr>\n",
       "    <tr>\n",
       "      <th>542</th>\n",
       "      <td>2016-07-21</td>\n",
       "      <td>1327</td>\n",
       "      <td>False</td>\n",
       "    </tr>\n",
       "    <tr>\n",
       "      <th>569</th>\n",
       "      <td>2016-08-17</td>\n",
       "      <td>534</td>\n",
       "      <td>False</td>\n",
       "    </tr>\n",
       "    <tr>\n",
       "      <th>584</th>\n",
       "      <td>2016-09-01</td>\n",
       "      <td>337</td>\n",
       "      <td>False</td>\n",
       "    </tr>\n",
       "    <tr>\n",
       "      <th>620</th>\n",
       "      <td>2016-10-07</td>\n",
       "      <td>2222</td>\n",
       "      <td>False</td>\n",
       "    </tr>\n",
       "    <tr>\n",
       "      <th>652</th>\n",
       "      <td>2016-11-08</td>\n",
       "      <td>2867</td>\n",
       "      <td>False</td>\n",
       "    </tr>\n",
       "  </tbody>\n",
       "</table>\n",
       "</div>"
      ],
      "text/plain": [
       "           date  tweers_count   Important Events\n",
       "170  2015-06-16             3              False\n",
       "331  2015-12-07           219              False\n",
       "382  2016-02-01            18              False\n",
       "409  2016-03-01           143              False\n",
       "411  2016-03-03             6              False\n",
       "419  2016-03-11            64              False\n",
       "467  2016-05-03            38              False\n",
       "487  2016-05-26             6              False\n",
       "511  2016-06-20           201              False\n",
       "536  2016-07-15            47              False\n",
       "542  2016-07-21          1327              False\n",
       "569  2016-08-17           534              False\n",
       "584  2016-09-01           337              False\n",
       "620  2016-10-07          2222              False\n",
       "652  2016-11-08          2867              False"
      ]
     },
     "execution_count": 65,
     "metadata": {},
     "output_type": "execute_result"
    }
   ],
   "source": [
    "data[data['date'].isin(important_dates)]"
   ]
  },
  {
   "cell_type": "code",
   "execution_count": null,
   "id": "917effe2-c1b8-4391-b616-9119ed7b086a",
   "metadata": {},
   "outputs": [],
   "source": []
  },
  {
   "cell_type": "code",
   "execution_count": 66,
   "id": "8e38c220-2ca5-4414-8f8a-b280b786c661",
   "metadata": {},
   "outputs": [],
   "source": [
    "data[' Important Events']=np.where(data['date'].isin(important_dates),True,False)"
   ]
  },
  {
   "cell_type": "code",
   "execution_count": 67,
   "id": "1f643a49-d82c-45bb-9918-c84b3efe5f6b",
   "metadata": {},
   "outputs": [
    {
     "data": {
      "text/html": [
       "<div>\n",
       "<style scoped>\n",
       "    .dataframe tbody tr th:only-of-type {\n",
       "        vertical-align: middle;\n",
       "    }\n",
       "\n",
       "    .dataframe tbody tr th {\n",
       "        vertical-align: top;\n",
       "    }\n",
       "\n",
       "    .dataframe thead th {\n",
       "        text-align: right;\n",
       "    }\n",
       "</style>\n",
       "<table border=\"1\" class=\"dataframe\">\n",
       "  <thead>\n",
       "    <tr style=\"text-align: right;\">\n",
       "      <th></th>\n",
       "      <th>date</th>\n",
       "      <th>tweers_count</th>\n",
       "      <th>Important Events</th>\n",
       "    </tr>\n",
       "  </thead>\n",
       "  <tbody>\n",
       "    <tr>\n",
       "      <th>170</th>\n",
       "      <td>2015-06-16</td>\n",
       "      <td>3</td>\n",
       "      <td>True</td>\n",
       "    </tr>\n",
       "    <tr>\n",
       "      <th>331</th>\n",
       "      <td>2015-12-07</td>\n",
       "      <td>219</td>\n",
       "      <td>True</td>\n",
       "    </tr>\n",
       "    <tr>\n",
       "      <th>382</th>\n",
       "      <td>2016-02-01</td>\n",
       "      <td>18</td>\n",
       "      <td>True</td>\n",
       "    </tr>\n",
       "    <tr>\n",
       "      <th>409</th>\n",
       "      <td>2016-03-01</td>\n",
       "      <td>143</td>\n",
       "      <td>True</td>\n",
       "    </tr>\n",
       "    <tr>\n",
       "      <th>411</th>\n",
       "      <td>2016-03-03</td>\n",
       "      <td>6</td>\n",
       "      <td>True</td>\n",
       "    </tr>\n",
       "    <tr>\n",
       "      <th>419</th>\n",
       "      <td>2016-03-11</td>\n",
       "      <td>64</td>\n",
       "      <td>True</td>\n",
       "    </tr>\n",
       "    <tr>\n",
       "      <th>467</th>\n",
       "      <td>2016-05-03</td>\n",
       "      <td>38</td>\n",
       "      <td>True</td>\n",
       "    </tr>\n",
       "    <tr>\n",
       "      <th>487</th>\n",
       "      <td>2016-05-26</td>\n",
       "      <td>6</td>\n",
       "      <td>True</td>\n",
       "    </tr>\n",
       "    <tr>\n",
       "      <th>511</th>\n",
       "      <td>2016-06-20</td>\n",
       "      <td>201</td>\n",
       "      <td>True</td>\n",
       "    </tr>\n",
       "    <tr>\n",
       "      <th>536</th>\n",
       "      <td>2016-07-15</td>\n",
       "      <td>47</td>\n",
       "      <td>True</td>\n",
       "    </tr>\n",
       "    <tr>\n",
       "      <th>542</th>\n",
       "      <td>2016-07-21</td>\n",
       "      <td>1327</td>\n",
       "      <td>True</td>\n",
       "    </tr>\n",
       "    <tr>\n",
       "      <th>569</th>\n",
       "      <td>2016-08-17</td>\n",
       "      <td>534</td>\n",
       "      <td>True</td>\n",
       "    </tr>\n",
       "    <tr>\n",
       "      <th>584</th>\n",
       "      <td>2016-09-01</td>\n",
       "      <td>337</td>\n",
       "      <td>True</td>\n",
       "    </tr>\n",
       "    <tr>\n",
       "      <th>620</th>\n",
       "      <td>2016-10-07</td>\n",
       "      <td>2222</td>\n",
       "      <td>True</td>\n",
       "    </tr>\n",
       "    <tr>\n",
       "      <th>652</th>\n",
       "      <td>2016-11-08</td>\n",
       "      <td>2867</td>\n",
       "      <td>True</td>\n",
       "    </tr>\n",
       "  </tbody>\n",
       "</table>\n",
       "</div>"
      ],
      "text/plain": [
       "           date  tweers_count   Important Events\n",
       "170  2015-06-16             3               True\n",
       "331  2015-12-07           219               True\n",
       "382  2016-02-01            18               True\n",
       "409  2016-03-01           143               True\n",
       "411  2016-03-03             6               True\n",
       "419  2016-03-11            64               True\n",
       "467  2016-05-03            38               True\n",
       "487  2016-05-26             6               True\n",
       "511  2016-06-20           201               True\n",
       "536  2016-07-15            47               True\n",
       "542  2016-07-21          1327               True\n",
       "569  2016-08-17           534               True\n",
       "584  2016-09-01           337               True\n",
       "620  2016-10-07          2222               True\n",
       "652  2016-11-08          2867               True"
      ]
     },
     "execution_count": 67,
     "metadata": {},
     "output_type": "execute_result"
    }
   ],
   "source": [
    "data[data[' Important Events']==True]"
   ]
  },
  {
   "cell_type": "code",
   "execution_count": 68,
   "id": "db3f3821-9232-4c70-87a0-cc3b8ced8c5c",
   "metadata": {},
   "outputs": [
    {
     "data": {
      "text/plain": [
       "<Axes: xlabel='created_str_date'>"
      ]
     },
     "execution_count": 68,
     "metadata": {},
     "output_type": "execute_result"
    },
    {
     "data": {
      "image/png": "[encoded data removed]",
      "text/plain": [
       "<Figure size 640x480 with 1 Axes>"
      ]
     },
     "metadata": {},
     "output_type": "display_data"
    }
   ],
   "source": [
    "tweet_trend['tweers_count'].rolling(window=30,min_periods=10).mean().plot(color='g')"
   ]
  },
  {
   "cell_type": "code",
   "execution_count": 69,
   "id": "3e2e8fe4-ee2d-41ba-92ba-16e5d4aa8a97",
   "metadata": {},
   "outputs": [],
   "source": [
    "data['values']=np.where(data['date'].isin(important_dates),1,0)"
   ]
  },
  {
   "cell_type": "code",
   "execution_count": 70,
   "id": "6c89061d-9d46-4661-853b-492ce72f9f1f",
   "metadata": {},
   "outputs": [
    {
     "data": {
      "text/html": [
       "<div>\n",
       "<style scoped>\n",
       "    .dataframe tbody tr th:only-of-type {\n",
       "        vertical-align: middle;\n",
       "    }\n",
       "\n",
       "    .dataframe tbody tr th {\n",
       "        vertical-align: top;\n",
       "    }\n",
       "\n",
       "    .dataframe thead th {\n",
       "        text-align: right;\n",
       "    }\n",
       "</style>\n",
       "<table border=\"1\" class=\"dataframe\">\n",
       "  <thead>\n",
       "    <tr style=\"text-align: right;\">\n",
       "      <th></th>\n",
       "      <th>date</th>\n",
       "      <th>tweers_count</th>\n",
       "      <th>Important Events</th>\n",
       "      <th>values</th>\n",
       "    </tr>\n",
       "  </thead>\n",
       "  <tbody>\n",
       "    <tr>\n",
       "      <th>0</th>\n",
       "      <td>2014-07-14</td>\n",
       "      <td>1</td>\n",
       "      <td>False</td>\n",
       "      <td>0</td>\n",
       "    </tr>\n",
       "    <tr>\n",
       "      <th>1</th>\n",
       "      <td>2014-07-17</td>\n",
       "      <td>1</td>\n",
       "      <td>False</td>\n",
       "      <td>0</td>\n",
       "    </tr>\n",
       "    <tr>\n",
       "      <th>2</th>\n",
       "      <td>2014-07-20</td>\n",
       "      <td>2</td>\n",
       "      <td>False</td>\n",
       "      <td>0</td>\n",
       "    </tr>\n",
       "    <tr>\n",
       "      <th>3</th>\n",
       "      <td>2014-07-22</td>\n",
       "      <td>3</td>\n",
       "      <td>False</td>\n",
       "      <td>0</td>\n",
       "    </tr>\n",
       "    <tr>\n",
       "      <th>4</th>\n",
       "      <td>2014-07-23</td>\n",
       "      <td>1</td>\n",
       "      <td>False</td>\n",
       "      <td>0</td>\n",
       "    </tr>\n",
       "  </tbody>\n",
       "</table>\n",
       "</div>"
      ],
      "text/plain": [
       "         date  tweers_count   Important Events  values\n",
       "0  2014-07-14             1              False       0\n",
       "1  2014-07-17             1              False       0\n",
       "2  2014-07-20             2              False       0\n",
       "3  2014-07-22             3              False       0\n",
       "4  2014-07-23             1              False       0"
      ]
     },
     "execution_count": 70,
     "metadata": {},
     "output_type": "execute_result"
    }
   ],
   "source": [
    "data.head(5)"
   ]
  },
  {
   "cell_type": "code",
   "execution_count": null,
   "id": "81947acf-6f79-48a6-bbfa-4ca468e5a87d",
   "metadata": {},
   "outputs": [],
   "source": []
  },
  {
   "cell_type": "code",
   "execution_count": 98,
   "id": "b5877735-e9f3-44d4-a69f-6a21db98edc4",
   "metadata": {},
   "outputs": [
    {
     "data": {
      "text/plain": [
       "[<matplotlib.lines.Line2D at 0x1d86d29e060>]"
      ]
     },
     "execution_count": 98,
     "metadata": {},
     "output_type": "execute_result"
    },
    {
     "data": {
      "image/png": "[encoded data removed]",
      "text/plain": [
       "<Figure size 1400x1000 with 1 Axes>"
      ]
     },
     "metadata": {},
     "output_type": "display_data"
    }
   ],
   "source": [
    "tweet_trend['tweers_count'].plot(linestyle='--',figsize=(14,10))\n",
    "\n",
    "tweet_trend['tweers_count'].rolling(window=30,min_periods=10).mean().plot(color='r')\n",
    "\n",
    "plt.plot(pd.to_datetime(data[filt]['date'].values),data[filt]['values'].values,color='g',marker='*',linestyle='none')\n"
   ]
  },
  {
   "cell_type": "code",
   "execution_count": 82,
   "id": "148d8470-f407-4c76-a311-fbc16c5de142",
   "metadata": {},
   "outputs": [],
   "source": [
    "filt=data[' Important Events']==True"
   ]
  },
  {
   "cell_type": "code",
   "execution_count": 84,
   "id": "746125b0-9e2c-4eee-beb6-26366d983621",
   "metadata": {},
   "outputs": [
    {
     "data": {
      "text/plain": [
       "0      False\n",
       "1      False\n",
       "2      False\n",
       "3      False\n",
       "4      False\n",
       "       ...  \n",
       "925    False\n",
       "926    False\n",
       "927    False\n",
       "928    False\n",
       "929    False\n",
       "Name:  Important Events, Length: 930, dtype: bool"
      ]
     },
     "execution_count": 84,
     "metadata": {},
     "output_type": "execute_result"
    }
   ],
   "source": [
    "filt"
   ]
  },
  {
   "cell_type": "code",
   "execution_count": 86,
   "id": "c3814adf-962b-4b97-8f6c-7ca5cec60ff8",
   "metadata": {},
   "outputs": [
    {
     "data": {
      "text/html": [
       "<div>\n",
       "<style scoped>\n",
       "    .dataframe tbody tr th:only-of-type {\n",
       "        vertical-align: middle;\n",
       "    }\n",
       "\n",
       "    .dataframe tbody tr th {\n",
       "        vertical-align: top;\n",
       "    }\n",
       "\n",
       "    .dataframe thead th {\n",
       "        text-align: right;\n",
       "    }\n",
       "</style>\n",
       "<table border=\"1\" class=\"dataframe\">\n",
       "  <thead>\n",
       "    <tr style=\"text-align: right;\">\n",
       "      <th></th>\n",
       "      <th>date</th>\n",
       "      <th>tweers_count</th>\n",
       "      <th>Important Events</th>\n",
       "      <th>values</th>\n",
       "    </tr>\n",
       "  </thead>\n",
       "  <tbody>\n",
       "    <tr>\n",
       "      <th>170</th>\n",
       "      <td>2015-06-16</td>\n",
       "      <td>3</td>\n",
       "      <td>True</td>\n",
       "      <td>1</td>\n",
       "    </tr>\n",
       "    <tr>\n",
       "      <th>331</th>\n",
       "      <td>2015-12-07</td>\n",
       "      <td>219</td>\n",
       "      <td>True</td>\n",
       "      <td>1</td>\n",
       "    </tr>\n",
       "    <tr>\n",
       "      <th>382</th>\n",
       "      <td>2016-02-01</td>\n",
       "      <td>18</td>\n",
       "      <td>True</td>\n",
       "      <td>1</td>\n",
       "    </tr>\n",
       "    <tr>\n",
       "      <th>409</th>\n",
       "      <td>2016-03-01</td>\n",
       "      <td>143</td>\n",
       "      <td>True</td>\n",
       "      <td>1</td>\n",
       "    </tr>\n",
       "    <tr>\n",
       "      <th>411</th>\n",
       "      <td>2016-03-03</td>\n",
       "      <td>6</td>\n",
       "      <td>True</td>\n",
       "      <td>1</td>\n",
       "    </tr>\n",
       "    <tr>\n",
       "      <th>419</th>\n",
       "      <td>2016-03-11</td>\n",
       "      <td>64</td>\n",
       "      <td>True</td>\n",
       "      <td>1</td>\n",
       "    </tr>\n",
       "    <tr>\n",
       "      <th>467</th>\n",
       "      <td>2016-05-03</td>\n",
       "      <td>38</td>\n",
       "      <td>True</td>\n",
       "      <td>1</td>\n",
       "    </tr>\n",
       "    <tr>\n",
       "      <th>487</th>\n",
       "      <td>2016-05-26</td>\n",
       "      <td>6</td>\n",
       "      <td>True</td>\n",
       "      <td>1</td>\n",
       "    </tr>\n",
       "    <tr>\n",
       "      <th>511</th>\n",
       "      <td>2016-06-20</td>\n",
       "      <td>201</td>\n",
       "      <td>True</td>\n",
       "      <td>1</td>\n",
       "    </tr>\n",
       "    <tr>\n",
       "      <th>536</th>\n",
       "      <td>2016-07-15</td>\n",
       "      <td>47</td>\n",
       "      <td>True</td>\n",
       "      <td>1</td>\n",
       "    </tr>\n",
       "    <tr>\n",
       "      <th>542</th>\n",
       "      <td>2016-07-21</td>\n",
       "      <td>1327</td>\n",
       "      <td>True</td>\n",
       "      <td>1</td>\n",
       "    </tr>\n",
       "    <tr>\n",
       "      <th>569</th>\n",
       "      <td>2016-08-17</td>\n",
       "      <td>534</td>\n",
       "      <td>True</td>\n",
       "      <td>1</td>\n",
       "    </tr>\n",
       "    <tr>\n",
       "      <th>584</th>\n",
       "      <td>2016-09-01</td>\n",
       "      <td>337</td>\n",
       "      <td>True</td>\n",
       "      <td>1</td>\n",
       "    </tr>\n",
       "    <tr>\n",
       "      <th>620</th>\n",
       "      <td>2016-10-07</td>\n",
       "      <td>2222</td>\n",
       "      <td>True</td>\n",
       "      <td>1</td>\n",
       "    </tr>\n",
       "    <tr>\n",
       "      <th>652</th>\n",
       "      <td>2016-11-08</td>\n",
       "      <td>2867</td>\n",
       "      <td>True</td>\n",
       "      <td>1</td>\n",
       "    </tr>\n",
       "  </tbody>\n",
       "</table>\n",
       "</div>"
      ],
      "text/plain": [
       "           date  tweers_count   Important Events  values\n",
       "170  2015-06-16             3               True       1\n",
       "331  2015-12-07           219               True       1\n",
       "382  2016-02-01            18               True       1\n",
       "409  2016-03-01           143               True       1\n",
       "411  2016-03-03             6               True       1\n",
       "419  2016-03-11            64               True       1\n",
       "467  2016-05-03            38               True       1\n",
       "487  2016-05-26             6               True       1\n",
       "511  2016-06-20           201               True       1\n",
       "536  2016-07-15            47               True       1\n",
       "542  2016-07-21          1327               True       1\n",
       "569  2016-08-17           534               True       1\n",
       "584  2016-09-01           337               True       1\n",
       "620  2016-10-07          2222               True       1\n",
       "652  2016-11-08          2867               True       1"
      ]
     },
     "execution_count": 86,
     "metadata": {},
     "output_type": "execute_result"
    }
   ],
   "source": [
    "data[filt]"
   ]
  },
  {
   "cell_type": "code",
   "execution_count": 88,
   "id": "ac192cb3-25dc-4404-9966-e9cb9dedc91a",
   "metadata": {},
   "outputs": [
    {
     "data": {
      "text/plain": [
       "DatetimeIndex(['2015-06-16', '2015-12-07', '2016-02-01', '2016-03-01',\n",
       "               '2016-03-03', '2016-03-11', '2016-05-03', '2016-05-26',\n",
       "               '2016-06-20', '2016-07-15', '2016-07-21', '2016-08-17',\n",
       "               '2016-09-01', '2016-10-07', '2016-11-08'],\n",
       "              dtype='datetime64[ns]', freq=None)"
      ]
     },
     "execution_count": 88,
     "metadata": {},
     "output_type": "execute_result"
    }
   ],
   "source": [
    "pd.to_datetime(data[filt]['date'].values)"
   ]
  },
  {
   "cell_type": "code",
   "execution_count": 90,
   "id": "06f824b6-27b8-4156-bdf5-be333494ecdd",
   "metadata": {},
   "outputs": [
    {
     "data": {
      "text/plain": [
       "170    1\n",
       "331    1\n",
       "382    1\n",
       "409    1\n",
       "411    1\n",
       "419    1\n",
       "467    1\n",
       "487    1\n",
       "511    1\n",
       "536    1\n",
       "542    1\n",
       "569    1\n",
       "584    1\n",
       "620    1\n",
       "652    1\n",
       "Name: values, dtype: int32"
      ]
     },
     "execution_count": 90,
     "metadata": {},
     "output_type": "execute_result"
    }
   ],
   "source": [
    "data[filt]['values']"
   ]
  },
  {
   "cell_type": "code",
   "execution_count": 92,
   "id": "08608aa3-24b9-4571-9983-23f0695cffdd",
   "metadata": {},
   "outputs": [
    {
     "data": {
      "text/plain": [
       "0      1\n",
       "1      1\n",
       "2      2\n",
       "3      3\n",
       "4      1\n",
       "      ..\n",
       "925    7\n",
       "926    6\n",
       "927    1\n",
       "928    1\n",
       "929    3\n",
       "Name: tweers_count, Length: 930, dtype: int64"
      ]
     },
     "execution_count": 92,
     "metadata": {},
     "output_type": "execute_result"
    }
   ],
   "source": [
    "data['tweers_count']"
   ]
  },
  {
   "cell_type": "code",
   "execution_count": 94,
   "id": "5f286951-3bc5-4689-aea9-d509ada4a253",
   "metadata": {},
   "outputs": [],
   "source": [
    "data['pct_change']=data['tweers_count'].pct_change()*100"
   ]
  },
  {
   "cell_type": "code",
   "execution_count": 96,
   "id": "5ae31968-15c8-4d29-9db1-a568041e5ba3",
   "metadata": {},
   "outputs": [
    {
     "data": {
      "text/html": [
       "<div>\n",
       "<style scoped>\n",
       "    .dataframe tbody tr th:only-of-type {\n",
       "        vertical-align: middle;\n",
       "    }\n",
       "\n",
       "    .dataframe tbody tr th {\n",
       "        vertical-align: top;\n",
       "    }\n",
       "\n",
       "    .dataframe thead th {\n",
       "        text-align: right;\n",
       "    }\n",
       "</style>\n",
       "<table border=\"1\" class=\"dataframe\">\n",
       "  <thead>\n",
       "    <tr style=\"text-align: right;\">\n",
       "      <th></th>\n",
       "      <th>date</th>\n",
       "      <th>tweers_count</th>\n",
       "      <th>Important Events</th>\n",
       "      <th>values</th>\n",
       "      <th>pct_change</th>\n",
       "    </tr>\n",
       "  </thead>\n",
       "  <tbody>\n",
       "    <tr>\n",
       "      <th>0</th>\n",
       "      <td>2014-07-14</td>\n",
       "      <td>1</td>\n",
       "      <td>False</td>\n",
       "      <td>0</td>\n",
       "      <td>NaN</td>\n",
       "    </tr>\n",
       "    <tr>\n",
       "      <th>1</th>\n",
       "      <td>2014-07-17</td>\n",
       "      <td>1</td>\n",
       "      <td>False</td>\n",
       "      <td>0</td>\n",
       "      <td>0.000000</td>\n",
       "    </tr>\n",
       "    <tr>\n",
       "      <th>2</th>\n",
       "      <td>2014-07-20</td>\n",
       "      <td>2</td>\n",
       "      <td>False</td>\n",
       "      <td>0</td>\n",
       "      <td>100.000000</td>\n",
       "    </tr>\n",
       "    <tr>\n",
       "      <th>3</th>\n",
       "      <td>2014-07-22</td>\n",
       "      <td>3</td>\n",
       "      <td>False</td>\n",
       "      <td>0</td>\n",
       "      <td>50.000000</td>\n",
       "    </tr>\n",
       "    <tr>\n",
       "      <th>4</th>\n",
       "      <td>2014-07-23</td>\n",
       "      <td>1</td>\n",
       "      <td>False</td>\n",
       "      <td>0</td>\n",
       "      <td>-66.666667</td>\n",
       "    </tr>\n",
       "  </tbody>\n",
       "</table>\n",
       "</div>"
      ],
      "text/plain": [
       "         date  tweers_count   Important Events  values  pct_change\n",
       "0  2014-07-14             1              False       0         NaN\n",
       "1  2014-07-17             1              False       0    0.000000\n",
       "2  2014-07-20             2              False       0  100.000000\n",
       "3  2014-07-22             3              False       0   50.000000\n",
       "4  2014-07-23             1              False       0  -66.666667"
      ]
     },
     "execution_count": 96,
     "metadata": {},
     "output_type": "execute_result"
    }
   ],
   "source": [
    "data.head(5)"
   ]
  },
  {
   "cell_type": "code",
   "execution_count": null,
   "id": "5a0b4e7a-a0bf-4562-b206-5af2c7e3bc0b",
   "metadata": {},
   "outputs": [],
   "source": []
  },
  {
   "cell_type": "code",
   "execution_count": null,
   "id": "19b9072e-350d-4930-9fad-c4377e6e7291",
   "metadata": {},
   "outputs": [],
   "source": [
    "plt.figure(figsize=(12,6))\n",
    "data.set_index('date')['pct_change'].plot()"
   ]
  },
  {
   "cell_type": "code",
   "execution_count": null,
   "id": "1003c445-d272-4e90-82ca-eb436392b31e",
   "metadata": {},
   "outputs": [],
   "source": [
    "data.dtypes"
   ]
  },
  {
   "cell_type": "code",
   "execution_count": null,
   "id": "e3fca72a-b44d-4aef-8aec-f7083c6a1f58",
   "metadata": {},
   "outputs": [],
   "source": [
    "data['date']=pd.to_datetime(data['date'])"
   ]
  },
  {
   "cell_type": "code",
   "execution_count": null,
   "id": "1ca16e43-c390-4723-9bbe-5955dc3f9234",
   "metadata": {},
   "outputs": [],
   "source": [
    "plt.figure(figsize=(12,6))\n",
    "data.set_index('date')['pct_change'].plot()\n",
    "\n",
    "plt.plot(pd.to_datetime(data[filt]['date'].values),data[filt]['values'].values,color='g',marker='*',linestyle='none')"
   ]
  },
  {
   "cell_type": "code",
   "execution_count": null,
   "id": "7380b684-8751-461a-8fd5-721251c1f1f6",
   "metadata": {},
   "outputs": [],
   "source": [
    "troll.to_csv(r\"E:\\\\PycharmProjects\\\\Data Analytics Real-World Case Studies using Python\\\\Data Analytics Real-World Case Studies using Python\\\\2. Project 2 Russian Tweets\\\\archive_2\\\\clean_tweets.csv\",index=False)"
   ]
  },
  {
   "cell_type": "code",
   "execution_count": null,
   "id": "5b3fb991-92ae-4f7b-8310-5915fb8af734",
   "metadata": {},
   "outputs": [],
   "source": [
    "####################################################################################################################################"
   ]
  },
  {
   "cell_type": "code",
   "execution_count": null,
   "id": "037357ab-8438-45e5-9cee-04e94ef53235",
   "metadata": {},
   "outputs": [],
   "source": [
    "teoll=pd.read_csv(r\"E:\\\\PycharmProjects\\\\Data Analytics Real-World Case Studies using Python\\\\Data Analytics Real-World Case Studies using Python\\\\2. Project 2 Russian Tweets\\\\archive_2\\\\clean_tweets.csv\")"
   ]
  },
  {
   "cell_type": "code",
   "execution_count": null,
   "id": "f4c815c2-2e03-4265-95d2-5ea6196548f7",
   "metadata": {},
   "outputs": [],
   "source": [
    "teoll.head(4)"
   ]
  },
  {
   "cell_type": "code",
   "execution_count": null,
   "id": "f3026aaf-81a4-4e2a-a1f3-8860d76ba5ae",
   "metadata": {},
   "outputs": [],
   "source": [
    "teoll['text']"
   ]
  },
  {
   "cell_type": "code",
   "execution_count": null,
   "id": "af3b1f79-10fb-46c1-89be-47eaf046daab",
   "metadata": {},
   "outputs": [],
   "source": [
    "teoll['text'][0]"
   ]
  },
  {
   "cell_type": "code",
   "execution_count": null,
   "id": "236ab862-921a-480c-ab16-16d71fa4dc6f",
   "metadata": {},
   "outputs": [],
   "source": [
    "teoll['text'].isnull().sum()"
   ]
  },
  {
   "cell_type": "code",
   "execution_count": null,
   "id": "823c0700-abc5-4bca-884a-fbdd7b6631e7",
   "metadata": {},
   "outputs": [],
   "source": [
    "teoll.dropna(subset=['text'],inplace=True)"
   ]
  },
  {
   "cell_type": "code",
   "execution_count": null,
   "id": "d0478474-a567-4244-850b-c7a32489cd50",
   "metadata": {},
   "outputs": [],
   "source": [
    "teoll['text'].isnull().sum()"
   ]
  },
  {
   "cell_type": "code",
   "execution_count": null,
   "id": "6a9fda47-edb6-43b6-9ed9-9159c85a3295",
   "metadata": {},
   "outputs": [],
   "source": [
    "teoll['text'].head(50)"
   ]
  },
  {
   "cell_type": "code",
   "execution_count": null,
   "id": "f995762e-edff-4502-a960-fa9ab6551aa2",
   "metadata": {},
   "outputs": [],
   "source": []
  },
  {
   "cell_type": "code",
   "execution_count": null,
   "id": "f37dc7e0-3763-4edc-98b5-6490f4376626",
   "metadata": {},
   "outputs": [],
   "source": []
  },
  {
   "cell_type": "code",
   "execution_count": null,
   "id": "aabb2d89-8c23-4503-bb55-02ba83711b61",
   "metadata": {},
   "outputs": [],
   "source": []
  },
  {
   "cell_type": "code",
   "execution_count": null,
   "id": "01d02a7c-e794-4598-8624-4fede8e730b5",
   "metadata": {},
   "outputs": [],
   "source": []
  }
 ],
 "metadata": {
  "kernelspec": {
   "display_name": "Python 3 (ipykernel)",
   "language": "python",
   "name": "python3"
  },
  "language_info": {
   "codemirror_mode": {
    "name": "ipython",
    "version": 3
   },
   "file_extension": ".py",
   "mimetype": "text/x-python",
   "name": "python",
   "nbconvert_exporter": "python",
   "pygments_lexer": "ipython3",
   "version": "3.12.4"
  }
 },
 "nbformat": 4,
 "nbformat_minor": 5
}
